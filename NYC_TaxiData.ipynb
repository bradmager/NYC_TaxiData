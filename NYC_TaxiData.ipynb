{
 "cells": [
  {
   "cell_type": "markdown",
   "metadata": {},
   "source": [
    "In August 2015, the NYC Taxi and Limosine Commission released taxi data up through June 2015. \n",
    "This project analyzes some of that data, which is available at: \n",
    "    http://www.nyc.gov/html/tlc/html/about/trip_record_data.shtml"
   ]
  },
  {
   "cell_type": "code",
   "execution_count": 1,
   "metadata": {
    "collapsed": true
   },
   "outputs": [],
   "source": [
    "import numpy as np\n",
    "import pandas as pd\n",
    "import matplotlib as plt"
   ]
  },
  {
   "cell_type": "code",
   "execution_count": 3,
   "metadata": {
    "collapsed": false
   },
   "outputs": [],
   "source": [
    "# Read in the data. We'll just start with the data for June, 2015, for  yellow cabs.\n",
    "yellowDF = pd.read_csv('Data/yellow_tripdata_2015-06.csv')"
   ]
  },
  {
   "cell_type": "code",
   "execution_count": 8,
   "metadata": {
    "collapsed": false
   },
   "outputs": [
    {
     "name": "stdout",
     "output_type": "stream",
     "text": [
      "(12332380, 18)\n",
      "Index([u'VendorID', u'tpep_pickup_datetime', u'tpep_dropoff_datetime', u'passenger_count', u'trip_distance', u'pickup_longitude', u'pickup_latitude', u'RateCodeID', u'store_and_fwd_flag', u'dropoff_longitude', u'dropoff_latitude', u'payment_type', u'fare_amount', u'extra', u'mta_tax', u'tip_amount', u'tolls_amount', u'total_amount'], dtype='object')\n"
     ]
    }
   ],
   "source": [
    "print yellowDF.shape\n",
    "print yellowDF.columns"
   ]
  },
  {
   "cell_type": "markdown",
   "metadata": {},
   "source": [
    "Just the data in June gives us over 12 million records. We don't need all 18 columns, but we'll leave them for now. However, it might be nice to clean up the labels a bit. Then we'll need to clean the data to remove anything that won't help us, like NaNs, trips that take zero time, or those that clearly have incorrect entries."
   ]
  },
  {
   "cell_type": "code",
   "execution_count": 10,
   "metadata": {
    "collapsed": false
   },
   "outputs": [],
   "source": [
    "labels = ['VendorID', 'pickup_time', 'dropoff_time', 'passenger_count', 'distance', 'pickup_long', 'pickup_lat', \n",
    "         'RateCodeID', 'flag', 'dropoff_long', 'dropoff_lat', 'payment_type', 'fare', 'extra', 'mta_tax',\n",
    "         'tip', 'tolls', 'total']\n",
    "yellowDF.columns = labels"
   ]
  },
  {
   "cell_type": "code",
   "execution_count": 12,
   "metadata": {
    "collapsed": false
   },
   "outputs": [
    {
     "name": "stdout",
     "output_type": "stream",
     "text": [
      "   VendorID          pickup_time         dropoff_time  passenger_count  \\\n",
      "0         2  2015-06-01 00:00:00  2015-06-01 00:00:00                1   \n",
      "1         2  2015-06-01 00:00:02  2015-06-01 00:11:29                1   \n",
      "2         2  2015-06-01 00:00:01  2015-06-01 00:11:29                1   \n",
      "3         1  2015-06-01 00:00:03  2015-06-01 00:09:00                2   \n",
      "4         1  2015-06-01 00:00:06  2015-06-01 00:10:47                1   \n",
      "\n",
      "   distance  pickup_long  pickup_lat  RateCodeID flag  dropoff_long  \\\n",
      "0      0.90   -73.984428   40.737209           1    N    -73.979935   \n",
      "1      4.52   -73.983070   40.730591           1    N    -73.955582   \n",
      "2      7.41   -73.874634   40.774082           1    N    -73.944809   \n",
      "3      1.80   -73.985794   40.752808           1    N    -74.003029   \n",
      "4      2.10   -73.965904   40.758026           1    N    -73.983063   \n",
      "\n",
      "   dropoff_lat  payment_type  fare  extra  mta_tax   tip  tolls  total  \n",
      "0    40.749088             1  11.5    1.0      0.5  2.00   0.00  15.30  \n",
      "1    40.784531             1  14.0    0.5      0.5  1.70   0.00  17.00  \n",
      "2    40.779282             1  21.0    0.5      0.5  5.57   5.54  33.41  \n",
      "3    40.733280             2   8.5    0.5      0.5  0.00   0.00   9.80  \n",
      "4    40.775963             2   9.5    0.5      0.5  0.00   0.00  10.80  \n"
     ]
    }
   ],
   "source": [
    "print yellowDF.head(5)"
   ]
  },
  {
   "cell_type": "code",
   "execution_count": null,
   "metadata": {
    "collapsed": true
   },
   "outputs": [],
   "source": []
  }
 ],
 "metadata": {
  "kernelspec": {
   "display_name": "Python 2",
   "language": "python",
   "name": "python2"
  },
  "language_info": {
   "codemirror_mode": {
    "name": "ipython",
    "version": 2
   },
   "file_extension": ".py",
   "mimetype": "text/x-python",
   "name": "python",
   "nbconvert_exporter": "python",
   "pygments_lexer": "ipython2",
   "version": "2.7.10"
  }
 },
 "nbformat": 4,
 "nbformat_minor": 0
}
